{
  "nbformat": 4,
  "nbformat_minor": 0,
  "metadata": {
    "colab": {
      "provenance": [],
      "gpuType": "T4",
      "authorship_tag": "ABX9TyOxcCKV2GXEdPPUD2WVpE2C",
      "include_colab_link": true
    },
    "kernelspec": {
      "name": "python3",
      "display_name": "Python 3"
    },
    "language_info": {
      "name": "python"
    },
    "accelerator": "GPU",
    "widgets": {
      "application/vnd.jupyter.widget-state+json": {
        "ea6406a1c5644d59a6356856356d507d": {
          "model_module": "@jupyter-widgets/controls",
          "model_name": "HBoxModel",
          "model_module_version": "1.5.0",
          "state": {
            "_dom_classes": [],
            "_model_module": "@jupyter-widgets/controls",
            "_model_module_version": "1.5.0",
            "_model_name": "HBoxModel",
            "_view_count": null,
            "_view_module": "@jupyter-widgets/controls",
            "_view_module_version": "1.5.0",
            "_view_name": "HBoxView",
            "box_style": "",
            "children": [
              "IPY_MODEL_9917efbf93b04ff1afac4e7c25788537",
              "IPY_MODEL_ab29eeaf47a448ffa7d55a29b7814deb",
              "IPY_MODEL_33cb7a085b5d43539bab4c50e7607f39"
            ],
            "layout": "IPY_MODEL_71a8fa49b29f4f1fa13ac37be993b62c"
          }
        },
        "9917efbf93b04ff1afac4e7c25788537": {
          "model_module": "@jupyter-widgets/controls",
          "model_name": "HTMLModel",
          "model_module_version": "1.5.0",
          "state": {
            "_dom_classes": [],
            "_model_module": "@jupyter-widgets/controls",
            "_model_module_version": "1.5.0",
            "_model_name": "HTMLModel",
            "_view_count": null,
            "_view_module": "@jupyter-widgets/controls",
            "_view_module_version": "1.5.0",
            "_view_name": "HTMLView",
            "description": "",
            "description_tooltip": null,
            "layout": "IPY_MODEL_c1fe51ffce964055a23cc03c89e9c746",
            "placeholder": "​",
            "style": "IPY_MODEL_9e2fb37972be4434bcfff6a5baa7e72a",
            "value": "Recovering bytes: 100%"
          }
        },
        "ab29eeaf47a448ffa7d55a29b7814deb": {
          "model_module": "@jupyter-widgets/controls",
          "model_name": "FloatProgressModel",
          "model_module_version": "1.5.0",
          "state": {
            "_dom_classes": [],
            "_model_module": "@jupyter-widgets/controls",
            "_model_module_version": "1.5.0",
            "_model_name": "FloatProgressModel",
            "_view_count": null,
            "_view_module": "@jupyter-widgets/controls",
            "_view_module_version": "1.5.0",
            "_view_name": "ProgressView",
            "bar_style": "success",
            "description": "",
            "description_tooltip": null,
            "layout": "IPY_MODEL_69a4c73910d34a5aa901b189464d1165",
            "max": 10,
            "min": 0,
            "orientation": "horizontal",
            "style": "IPY_MODEL_4cf6e9e62ed649d7bae9f1e27c09a0c6",
            "value": 10
          }
        },
        "33cb7a085b5d43539bab4c50e7607f39": {
          "model_module": "@jupyter-widgets/controls",
          "model_name": "HTMLModel",
          "model_module_version": "1.5.0",
          "state": {
            "_dom_classes": [],
            "_model_module": "@jupyter-widgets/controls",
            "_model_module_version": "1.5.0",
            "_model_name": "HTMLModel",
            "_view_count": null,
            "_view_module": "@jupyter-widgets/controls",
            "_view_module_version": "1.5.0",
            "_view_name": "HTMLView",
            "description": "",
            "description_tooltip": null,
            "layout": "IPY_MODEL_bce1a1a8df8e41129eaaf46be832a02d",
            "placeholder": "​",
            "style": "IPY_MODEL_6b088301b4ee4726b28b75ef565a2e4f",
            "value": " 10/10 [00:07&lt;00:00,  2.50shards/s]"
          }
        },
        "71a8fa49b29f4f1fa13ac37be993b62c": {
          "model_module": "@jupyter-widgets/base",
          "model_name": "LayoutModel",
          "model_module_version": "1.2.0",
          "state": {
            "_model_module": "@jupyter-widgets/base",
            "_model_module_version": "1.2.0",
            "_model_name": "LayoutModel",
            "_view_count": null,
            "_view_module": "@jupyter-widgets/base",
            "_view_module_version": "1.2.0",
            "_view_name": "LayoutView",
            "align_content": null,
            "align_items": null,
            "align_self": null,
            "border": null,
            "bottom": null,
            "display": null,
            "flex": null,
            "flex_flow": null,
            "grid_area": null,
            "grid_auto_columns": null,
            "grid_auto_flow": null,
            "grid_auto_rows": null,
            "grid_column": null,
            "grid_gap": null,
            "grid_row": null,
            "grid_template_areas": null,
            "grid_template_columns": null,
            "grid_template_rows": null,
            "height": null,
            "justify_content": null,
            "justify_items": null,
            "left": null,
            "margin": null,
            "max_height": null,
            "max_width": null,
            "min_height": null,
            "min_width": null,
            "object_fit": null,
            "object_position": null,
            "order": null,
            "overflow": null,
            "overflow_x": null,
            "overflow_y": null,
            "padding": null,
            "right": null,
            "top": null,
            "visibility": null,
            "width": null
          }
        },
        "c1fe51ffce964055a23cc03c89e9c746": {
          "model_module": "@jupyter-widgets/base",
          "model_name": "LayoutModel",
          "model_module_version": "1.2.0",
          "state": {
            "_model_module": "@jupyter-widgets/base",
            "_model_module_version": "1.2.0",
            "_model_name": "LayoutModel",
            "_view_count": null,
            "_view_module": "@jupyter-widgets/base",
            "_view_module_version": "1.2.0",
            "_view_name": "LayoutView",
            "align_content": null,
            "align_items": null,
            "align_self": null,
            "border": null,
            "bottom": null,
            "display": null,
            "flex": null,
            "flex_flow": null,
            "grid_area": null,
            "grid_auto_columns": null,
            "grid_auto_flow": null,
            "grid_auto_rows": null,
            "grid_column": null,
            "grid_gap": null,
            "grid_row": null,
            "grid_template_areas": null,
            "grid_template_columns": null,
            "grid_template_rows": null,
            "height": null,
            "justify_content": null,
            "justify_items": null,
            "left": null,
            "margin": null,
            "max_height": null,
            "max_width": null,
            "min_height": null,
            "min_width": null,
            "object_fit": null,
            "object_position": null,
            "order": null,
            "overflow": null,
            "overflow_x": null,
            "overflow_y": null,
            "padding": null,
            "right": null,
            "top": null,
            "visibility": null,
            "width": null
          }
        },
        "9e2fb37972be4434bcfff6a5baa7e72a": {
          "model_module": "@jupyter-widgets/controls",
          "model_name": "DescriptionStyleModel",
          "model_module_version": "1.5.0",
          "state": {
            "_model_module": "@jupyter-widgets/controls",
            "_model_module_version": "1.5.0",
            "_model_name": "DescriptionStyleModel",
            "_view_count": null,
            "_view_module": "@jupyter-widgets/base",
            "_view_module_version": "1.2.0",
            "_view_name": "StyleView",
            "description_width": ""
          }
        },
        "69a4c73910d34a5aa901b189464d1165": {
          "model_module": "@jupyter-widgets/base",
          "model_name": "LayoutModel",
          "model_module_version": "1.2.0",
          "state": {
            "_model_module": "@jupyter-widgets/base",
            "_model_module_version": "1.2.0",
            "_model_name": "LayoutModel",
            "_view_count": null,
            "_view_module": "@jupyter-widgets/base",
            "_view_module_version": "1.2.0",
            "_view_name": "LayoutView",
            "align_content": null,
            "align_items": null,
            "align_self": null,
            "border": null,
            "bottom": null,
            "display": null,
            "flex": null,
            "flex_flow": null,
            "grid_area": null,
            "grid_auto_columns": null,
            "grid_auto_flow": null,
            "grid_auto_rows": null,
            "grid_column": null,
            "grid_gap": null,
            "grid_row": null,
            "grid_template_areas": null,
            "grid_template_columns": null,
            "grid_template_rows": null,
            "height": null,
            "justify_content": null,
            "justify_items": null,
            "left": null,
            "margin": null,
            "max_height": null,
            "max_width": null,
            "min_height": null,
            "min_width": null,
            "object_fit": null,
            "object_position": null,
            "order": null,
            "overflow": null,
            "overflow_x": null,
            "overflow_y": null,
            "padding": null,
            "right": null,
            "top": null,
            "visibility": null,
            "width": null
          }
        },
        "4cf6e9e62ed649d7bae9f1e27c09a0c6": {
          "model_module": "@jupyter-widgets/controls",
          "model_name": "ProgressStyleModel",
          "model_module_version": "1.5.0",
          "state": {
            "_model_module": "@jupyter-widgets/controls",
            "_model_module_version": "1.5.0",
            "_model_name": "ProgressStyleModel",
            "_view_count": null,
            "_view_module": "@jupyter-widgets/base",
            "_view_module_version": "1.2.0",
            "_view_name": "StyleView",
            "bar_color": null,
            "description_width": ""
          }
        },
        "bce1a1a8df8e41129eaaf46be832a02d": {
          "model_module": "@jupyter-widgets/base",
          "model_name": "LayoutModel",
          "model_module_version": "1.2.0",
          "state": {
            "_model_module": "@jupyter-widgets/base",
            "_model_module_version": "1.2.0",
            "_model_name": "LayoutModel",
            "_view_count": null,
            "_view_module": "@jupyter-widgets/base",
            "_view_module_version": "1.2.0",
            "_view_name": "LayoutView",
            "align_content": null,
            "align_items": null,
            "align_self": null,
            "border": null,
            "bottom": null,
            "display": null,
            "flex": null,
            "flex_flow": null,
            "grid_area": null,
            "grid_auto_columns": null,
            "grid_auto_flow": null,
            "grid_auto_rows": null,
            "grid_column": null,
            "grid_gap": null,
            "grid_row": null,
            "grid_template_areas": null,
            "grid_template_columns": null,
            "grid_template_rows": null,
            "height": null,
            "justify_content": null,
            "justify_items": null,
            "left": null,
            "margin": null,
            "max_height": null,
            "max_width": null,
            "min_height": null,
            "min_width": null,
            "object_fit": null,
            "object_position": null,
            "order": null,
            "overflow": null,
            "overflow_x": null,
            "overflow_y": null,
            "padding": null,
            "right": null,
            "top": null,
            "visibility": null,
            "width": null
          }
        },
        "6b088301b4ee4726b28b75ef565a2e4f": {
          "model_module": "@jupyter-widgets/controls",
          "model_name": "DescriptionStyleModel",
          "model_module_version": "1.5.0",
          "state": {
            "_model_module": "@jupyter-widgets/controls",
            "_model_module_version": "1.5.0",
            "_model_name": "DescriptionStyleModel",
            "_view_count": null,
            "_view_module": "@jupyter-widgets/base",
            "_view_module_version": "1.2.0",
            "_view_name": "StyleView",
            "description_width": ""
          }
        }
      }
    }
  },
  "cells": [
    {
      "cell_type": "markdown",
      "metadata": {
        "id": "view-in-github",
        "colab_type": "text"
      },
      "source": [
        "<a href=\"https://colab.research.google.com/github/ainkun/DLSCA_test/blob/main/DLSCA_Try.ipynb\" target=\"_parent\"><img src=\"https://colab.research.google.com/assets/colab-badge.svg\" alt=\"Open In Colab\"/></a>"
      ]
    },
    {
      "cell_type": "code",
      "source": [
        "!git clone https://github.com/google/scaaml.git\n"
      ],
      "metadata": {
        "id": "YiqvGxkq5Zan"
      },
      "execution_count": null,
      "outputs": []
    },
    {
      "cell_type": "code",
      "source": [
        "!wget https://storage.googleapis.com/scaaml-public/scaaml_intro/datasets.zip"
      ],
      "metadata": {
        "id": "l10xQMCvujR8"
      },
      "execution_count": null,
      "outputs": []
    },
    {
      "cell_type": "code",
      "source": [
        "!unzip /content/datasets.zip"
      ],
      "metadata": {
        "id": "Gs_FOJwUu5B3"
      },
      "execution_count": null,
      "outputs": []
    },
    {
      "cell_type": "code",
      "source": [
        "!wget https://storage.googleapis.com/scaaml-public/scaaml_intro/models.zip"
      ],
      "metadata": {
        "id": "AkZr2ZJwrm7u"
      },
      "execution_count": null,
      "outputs": []
    },
    {
      "cell_type": "code",
      "source": [
        "!unzip models.zip"
      ],
      "metadata": {
        "id": "x2TypTqnwYkk"
      },
      "execution_count": null,
      "outputs": []
    },
    {
      "cell_type": "code",
      "source": [
        "!mv datasets /content/scaaml/scaaml_intro/"
      ],
      "metadata": {
        "id": "5YYgN88EMnL6"
      },
      "execution_count": 6,
      "outputs": []
    },
    {
      "cell_type": "code",
      "source": [
        "!mv models /content/scaaml/scaaml_intro/"
      ],
      "metadata": {
        "id": "rSUJfWHVM3lD"
      },
      "execution_count": 7,
      "outputs": []
    },
    {
      "cell_type": "code",
      "source": [
        "!pip install -r /content/scaaml/requirements.txt"
      ],
      "metadata": {
        "id": "hNdFHTxS3y1g"
      },
      "execution_count": null,
      "outputs": []
    },
    {
      "cell_type": "code",
      "source": [
        "!sudo apt install tensorrt"
      ],
      "metadata": {
        "id": "58qBZ_6P48rv"
      },
      "execution_count": null,
      "outputs": []
    },
    {
      "cell_type": "code",
      "source": [
        "!cd /content/scaaml && python3 /content/scaaml/setup.py install"
      ],
      "metadata": {
        "id": "SpeQxXaH6QL6"
      },
      "execution_count": null,
      "outputs": []
    },
    {
      "cell_type": "code",
      "source": [
        "!cd /content/scaaml/scaaml_intro && python /content/scaaml/scaaml_intro/train.py -c /content/scaaml/scaaml_intro/config/stm32f415_tinyaes.json"
      ],
      "metadata": {
        "id": "Qq3HeV5E-45n"
      },
      "execution_count": null,
      "outputs": []
    },
    {
      "cell_type": "code",
      "source": [
        "from glob import glob\n",
        "\n",
        "pattern = f\"/content/scaaml/scaaml_intro/datasets/tinyaes/train*\"\n",
        "num_shards=256\n",
        "\n",
        "def list_shards(file_pattern, num_shards):\n",
        "    return glob(file_pattern)[:num_shards]\n"
      ],
      "metadata": {
        "id": "wWiYvQRgSLRs"
      },
      "execution_count": null,
      "outputs": []
    },
    {
      "cell_type": "code",
      "source": [
        "list_shards(pattern,num_shards)"
      ],
      "metadata": {
        "colab": {
          "base_uri": "https://localhost:8080/"
        },
        "id": "McXSSa6qTvSF",
        "outputId": "a1319334-2277-44cd-bca8-a9df1712d6a4"
      },
      "execution_count": null,
      "outputs": [
        {
          "output_type": "execute_result",
          "data": {
            "text/plain": [
              "['/content/scaaml/scaaml_intro/datasets/tinyaes/train']"
            ]
          },
          "metadata": {},
          "execution_count": 47
        }
      ]
    },
    {
      "cell_type": "code",
      "source": [
        "import json\n",
        "import numpy as np\n",
        "from tqdm.auto import tqdm\n",
        "from collections import defaultdict\n",
        "from tensorflow.keras import metrics\n",
        "from tabulate import tabulate\n",
        "import matplotlib.pyplot as plt\n",
        "from scaaml.aes import ap_preds_to_key_preds\n",
        "from scaaml.plot import plot_trace, plot_confusion_matrix\n",
        "from scaaml.utils import tf_cap_memory, from_categorical\n",
        "from scaaml.model import get_models_by_attack_point, get_models_list, load_model_from_disk\n",
        "from scaaml.intro.generator import list_shards, load_attack_shard\n",
        "from scaaml.utils import hex_display, bytelist_to_hex"
      ],
      "metadata": {
        "id": "85Aw5-aQbzQt"
      },
      "execution_count": null,
      "outputs": []
    },
    {
      "cell_type": "code",
      "source": [
        "target = 'stm32f415_tinyaes'\n",
        "tf_cap_memory()\n",
        "target_config = json.loads(open(\"/content/scaaml/scaaml_intro/config/\" + target + '.json').read())\n",
        "BATCH_SIZE = target_config['batch_size']\n",
        "TRACE_LEN = target_config['max_trace_len']"
      ],
      "metadata": {
        "colab": {
          "base_uri": "https://localhost:8080/"
        },
        "id": "o4g4A_Q_cHQK",
        "outputId": "cbef10c1-fc32-4ace-fd83-7271ac66397f"
      },
      "execution_count": null,
      "outputs": [
        {
          "output_type": "stream",
          "name": "stdout",
          "text": [
            "Physical devices cannot be modified after being initialized\n"
          ]
        }
      ]
    },
    {
      "cell_type": "markdown",
      "source": [],
      "metadata": {
        "id": "GLfZSjtcWRUX"
      }
    },
    {
      "cell_type": "code",
      "source": [
        "available_models = get_models_by_attack_point(target_config)\n"
      ],
      "metadata": {
        "colab": {
          "base_uri": "https://localhost:8080/"
        },
        "id": "RnGYlDZlcQo9",
        "outputId": "d54dc96f-41a7-410f-fcf8-c53d6afecc1f"
      },
      "execution_count": null,
      "outputs": [
        {
          "output_type": "stream",
          "name": "stdout",
          "text": [
            "Attack point    status      Num available models\n",
            "--------------  --------  ----------------------\n",
            "sub_bytes_out   complete                      16\n"
          ]
        }
      ]
    },
    {
      "cell_type": "code",
      "source": [
        "DATASET_GLOB = \"/content/scaaml/scaaml_intro/datasets/%s/test/*\" % target_config['algorithm']\n",
        "shard_paths  = list_shards(DATASET_GLOB, 10)"
      ],
      "metadata": {
        "id": "XTkcT5QzcQfA"
      },
      "execution_count": null,
      "outputs": []
    },
    {
      "cell_type": "code",
      "source": [
        "# let's select an attack point that have all the needed models -- Key is not a good target: it doesn't work\n",
        "ATTACK_POINT = 'sub_bytes_out'\n",
        "\n",
        "# let's also pick the key byte we want to use SCAAML to recover and load the related model\n",
        "ATTACK_BYTE = 0\n",
        "\n",
        "# load model\n",
        "print(available_models[ATTACK_POINT][ATTACK_BYTE])\n",
        "model = load_model_from_disk(\"/content/scaaml/scaaml_intro/models/stm32f415-tinyaes-cnn-v10-ap_sub_bytes_out-byte_0-len_20000\")"
      ],
      "metadata": {
        "colab": {
          "base_uri": "https://localhost:8080/"
        },
        "id": "vEDVHBsIcxMS",
        "outputId": "8d65f10f-e44a-4bbd-8c0e-2a53198ea859"
      },
      "execution_count": null,
      "outputs": [
        {
          "output_type": "stream",
          "name": "stdout",
          "text": [
            "models/stm32f415-tinyaes-cnn-v10-ap_sub_bytes_out-byte_0-len_20000\n"
          ]
        }
      ]
    },
    {
      "cell_type": "code",
      "source": [
        "NUM_TRACES = 10  # maximum number of traces to use to recover a given key byte. 10 is already overkill\n",
        "correct_prediction_rank = defaultdict(list)\n",
        "y_pred = []\n",
        "y_true = []\n",
        "model_metrics = {\"acc\": metrics.Accuracy()}\n",
        "for shard in tqdm(shard_paths, desc='Recovering bytes', unit='shards'):\n",
        "    keys, pts, x, y = load_attack_shard(shard, ATTACK_BYTE, ATTACK_POINT, TRACE_LEN, num_traces=NUM_TRACES)\n",
        "\n",
        "    # prediction\n",
        "    predictions = model.predict(x)\n",
        "\n",
        "    # computing byte prediction from intermediate predictions\n",
        "    key_preds = ap_preds_to_key_preds(predictions, pts, ATTACK_POINT)\n",
        "\n",
        "    c_preds = from_categorical(predictions)\n",
        "    c_y = from_categorical(y)\n",
        "    # metric tracking\n",
        "    for metric in model_metrics.values():\n",
        "        metric.update_state(c_y, c_preds)\n",
        "    # for the confusion matrix\n",
        "    y_pred.extend(c_preds)\n",
        "    y_true.extend(c_y)\n",
        "\n",
        "    # accumulating probabilities and checking correct guess position.\n",
        "    # if all goes well it will be at position 0 (highest probability)\n",
        "    # see below on how to use for the real attack\n",
        "\n",
        "\n",
        "    key = keys[0] # all the same in the same shard - not used in real attack\n",
        "    vals = np.zeros((256))\n",
        "    for trace_count, kp in enumerate(key_preds):\n",
        "        vals = vals  + np.log10(kp + 1e-22)\n",
        "        guess_ranks = (np.argsort(vals, )[-256:][::-1])\n",
        "        byte_rank = list(guess_ranks).index(key)\n",
        "        correct_prediction_rank[trace_count].append(byte_rank)"
      ],
      "metadata": {
        "colab": {
          "base_uri": "https://localhost:8080/",
          "height": 232,
          "referenced_widgets": [
            "ea6406a1c5644d59a6356856356d507d",
            "9917efbf93b04ff1afac4e7c25788537",
            "ab29eeaf47a448ffa7d55a29b7814deb",
            "33cb7a085b5d43539bab4c50e7607f39",
            "71a8fa49b29f4f1fa13ac37be993b62c",
            "c1fe51ffce964055a23cc03c89e9c746",
            "9e2fb37972be4434bcfff6a5baa7e72a",
            "69a4c73910d34a5aa901b189464d1165",
            "4cf6e9e62ed649d7bae9f1e27c09a0c6",
            "bce1a1a8df8e41129eaaf46be832a02d",
            "6b088301b4ee4726b28b75ef565a2e4f"
          ]
        },
        "id": "CzT9bdBPdAN-",
        "outputId": "4cd140bb-6bf2-4c4f-ed2c-4a7a57d0c69a"
      },
      "execution_count": null,
      "outputs": [
        {
          "output_type": "display_data",
          "data": {
            "text/plain": [
              "Recovering bytes:   0%|          | 0/10 [00:00<?, ?shards/s]"
            ],
            "application/vnd.jupyter.widget-view+json": {
              "version_major": 2,
              "version_minor": 0,
              "model_id": "ea6406a1c5644d59a6356856356d507d"
            }
          },
          "metadata": {}
        },
        {
          "output_type": "stream",
          "name": "stdout",
          "text": [
            "1/1 [==============================] - 4s 4s/step\n",
            "1/1 [==============================] - 0s 26ms/step\n",
            "1/1 [==============================] - 0s 28ms/step\n",
            "1/1 [==============================] - 0s 25ms/step\n",
            "1/1 [==============================] - 0s 25ms/step\n",
            "1/1 [==============================] - 0s 26ms/step\n",
            "1/1 [==============================] - 0s 30ms/step\n",
            "1/1 [==============================] - 0s 26ms/step\n",
            "1/1 [==============================] - 0s 27ms/step\n",
            "1/1 [==============================] - 0s 27ms/step\n"
          ]
        }
      ]
    },
    {
      "cell_type": "code",
      "source": [
        "print(\"Accuracy: %.2f\" % model_metrics['acc'].result())"
      ],
      "metadata": {
        "colab": {
          "base_uri": "https://localhost:8080/"
        },
        "id": "ikmJl4rKeRtS",
        "outputId": "8bea9735-28a9-4d02-a8b0-7df6d929d5a9"
      },
      "execution_count": null,
      "outputs": [
        {
          "output_type": "stream",
          "name": "stdout",
          "text": [
            "Accuracy: 0.00\n"
          ]
        }
      ]
    },
    {
      "cell_type": "code",
      "source": [
        "plot_confusion_matrix(y_true, y_pred, normalize=True, title=\"%s byte %s prediction confusion matrix\" % (ATTACK_POINT, ATTACK_BYTE))\n"
      ],
      "metadata": {
        "colab": {
          "base_uri": "https://localhost:8080/",
          "height": 663
        },
        "id": "DLdlahc5edad",
        "outputId": "a328ad4d-1b04-48f3-f475-6545eae4b5c7"
      },
      "execution_count": null,
      "outputs": [
        {
          "output_type": "stream",
          "name": "stderr",
          "text": [
            "/usr/local/lib/python3.10/dist-packages/scaaml-2.0.1.post1706175617-py3.10.egg/scaaml/plot.py:151: RuntimeWarning: invalid value encountered in divide\n",
            "  cm = cm.astype(\"float\") / cm.sum(axis=1)[:, np.newaxis]\n"
          ]
        },
        {
          "output_type": "display_data",
          "data": {
            "text/plain": [
              "<Figure size 800x600 with 2 Axes>"
            ],
            "image/png": "[encoded data removed]"
          },
          "metadata": {}
        }
      ]
    },
    {
      "cell_type": "code",
      "source": [
        "NUM_TRACES_TO_PLOT = 10\n",
        "avg_preds = np.array([correct_prediction_rank[i].count(0) for i in range(NUM_TRACES_TO_PLOT)])\n",
        "y = avg_preds / len(correct_prediction_rank[0]) * 100\n",
        "x = [i + 1 for i in range(NUM_TRACES_TO_PLOT)]\n",
        "plt.plot(x, y)\n",
        "plt.xlabel(\"Num traces\")\n",
        "plt.ylabel(\"Recovery success rate in %\")\n",
        "plt.title(\"%s ap:%s byte:%s recovery performance\" % (target_config['algorithm'], ATTACK_POINT, ATTACK_BYTE))\n",
        "plt.show()"
      ],
      "metadata": {
        "colab": {
          "base_uri": "https://localhost:8080/",
          "height": 472
        },
        "id": "zEpBGbcse0uf",
        "outputId": "480763bc-ba91-45d4-8d80-287dab1e3d02"
      },
      "execution_count": null,
      "outputs": [
        {
          "output_type": "display_data",
          "data": {
            "text/plain": [
              "<Figure size 640x480 with 1 Axes>"
            ],
            "image/png": "[encoded data removed]"
          },
          "metadata": {}
        }
      ]
    },
    {
      "cell_type": "code",
      "source": [],
      "metadata": {
        "id": "J_3tn30se6b-"
      },
      "execution_count": null,
      "outputs": []
    }
  ]
}